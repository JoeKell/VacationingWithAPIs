{
 "cells": [
  {
   "cell_type": "markdown",
   "metadata": {},
   "source": [
    "# VacationPy\n",
    "----\n",
    "\n",
    "#### Note\n",
    "* Keep an eye on your API usage. Use https://developers.google.com/maps/reporting/gmp-reporting as reference for how to monitor your usage and billing.\n",
    "\n",
    "* Instructions have been included for each segment. You do not have to follow them exactly, but they are included to help you think through the steps."
   ]
  },
  {
   "cell_type": "code",
   "execution_count": 48,
   "metadata": {},
   "outputs": [],
   "source": [
    "# Dependencies and Setup\n",
    "import matplotlib.pyplot as plt\n",
    "import pandas as pd\n",
    "import numpy as np\n",
    "import requests\n",
    "import gmaps\n",
    "import os\n",
    "import json\n",
    "from pprint import pprint\n",
    "from citipy import citipy\n",
    "\n",
    "# Import API key\n",
    "from api_keys import g_key"
   ]
  },
  {
   "cell_type": "markdown",
   "metadata": {},
   "source": [
    "### Store Part I results into DataFrame\n",
    "* Load the csv exported in Part I to a DataFrame"
   ]
  },
  {
   "cell_type": "code",
   "execution_count": 6,
   "metadata": {},
   "outputs": [
    {
     "output_type": "execute_result",
     "data": {
      "text/plain": [
       "           City   Latitude   Longitude  Temperature (F)  Humidity (%)  \\\n",
       "0        atuona  -9.800000 -139.033333            78.91          76.0   \n",
       "1       rikitea -23.120278 -134.969167            75.34          85.0   \n",
       "2     karauzyak  43.027500   60.012500            48.20          61.0   \n",
       "3  punta arenas -53.150000  -70.916667            55.40          37.0   \n",
       "4       pathein  16.783333   94.733333            75.83          90.0   \n",
       "\n",
       "   Cloudiness (%)  Wind_Speed (mph)  \n",
       "0            86.0             19.69  \n",
       "1           100.0             19.24  \n",
       "2             0.0              4.70  \n",
       "3            20.0             34.45  \n",
       "4             0.0              4.36  "
      ],
      "text/html": "<div>\n<style scoped>\n    .dataframe tbody tr th:only-of-type {\n        vertical-align: middle;\n    }\n\n    .dataframe tbody tr th {\n        vertical-align: top;\n    }\n\n    .dataframe thead th {\n        text-align: right;\n    }\n</style>\n<table border=\"1\" class=\"dataframe\">\n  <thead>\n    <tr style=\"text-align: right;\">\n      <th></th>\n      <th>City</th>\n      <th>Latitude</th>\n      <th>Longitude</th>\n      <th>Temperature (F)</th>\n      <th>Humidity (%)</th>\n      <th>Cloudiness (%)</th>\n      <th>Wind_Speed (mph)</th>\n    </tr>\n  </thead>\n  <tbody>\n    <tr>\n      <th>0</th>\n      <td>atuona</td>\n      <td>-9.800000</td>\n      <td>-139.033333</td>\n      <td>78.91</td>\n      <td>76.0</td>\n      <td>86.0</td>\n      <td>19.69</td>\n    </tr>\n    <tr>\n      <th>1</th>\n      <td>rikitea</td>\n      <td>-23.120278</td>\n      <td>-134.969167</td>\n      <td>75.34</td>\n      <td>85.0</td>\n      <td>100.0</td>\n      <td>19.24</td>\n    </tr>\n    <tr>\n      <th>2</th>\n      <td>karauzyak</td>\n      <td>43.027500</td>\n      <td>60.012500</td>\n      <td>48.20</td>\n      <td>61.0</td>\n      <td>0.0</td>\n      <td>4.70</td>\n    </tr>\n    <tr>\n      <th>3</th>\n      <td>punta arenas</td>\n      <td>-53.150000</td>\n      <td>-70.916667</td>\n      <td>55.40</td>\n      <td>37.0</td>\n      <td>20.0</td>\n      <td>34.45</td>\n    </tr>\n    <tr>\n      <th>4</th>\n      <td>pathein</td>\n      <td>16.783333</td>\n      <td>94.733333</td>\n      <td>75.83</td>\n      <td>90.0</td>\n      <td>0.0</td>\n      <td>4.36</td>\n    </tr>\n  </tbody>\n</table>\n</div>"
     },
     "metadata": {},
     "execution_count": 6
    }
   ],
   "source": [
    "csv_path = \"Output/2020Oct26weather.csv\"\n",
    "city_weather_df=pd.read_csv(csv_path, encoding=\"utf-8\")\n",
    "city_weather_df.head()"
   ]
  },
  {
   "cell_type": "markdown",
   "metadata": {},
   "source": [
    "### Humidity Heatmap\n",
    "* Configure gmaps.\n",
    "* Use the Lat and Lng as locations and Humidity as the weight.\n",
    "* Add Heatmap layer to map."
   ]
  },
  {
   "cell_type": "code",
   "execution_count": 9,
   "metadata": {},
   "outputs": [
    {
     "output_type": "display_data",
     "data": {
      "text/plain": "Figure(layout=FigureLayout(height='420px'))",
      "application/vnd.jupyter.widget-view+json": {
       "version_major": 2,
       "version_minor": 0,
       "model_id": "46de98ab59334038a125e648f6d755ed"
      }
     },
     "metadata": {}
    }
   ],
   "source": [
    "gmaps.configure(api_key=g_key)\n",
    "locations = city_weather_df[[\"Latitude\", \"Longitude\"]]\n",
    "humidity = city_weather_df[\"Humidity (%)\"].astype(float)\n",
    "fig = gmaps.figure()\n",
    "heat_layer = gmaps.heatmap_layer(locations, weights=humidity, \n",
    "                                 dissipating=False, max_intensity=100,\n",
    "                                 point_radius=2.5)\n",
    "fig.add_layer(heat_layer)\n",
    "fig"
   ]
  },
  {
   "cell_type": "markdown",
   "metadata": {},
   "source": [
    "### Create new DataFrame fitting weather criteria\n",
    "* Narrow down the cities to fit weather conditions.\n",
    "* Drop any rows will null values."
   ]
  },
  {
   "cell_type": "code",
   "execution_count": 54,
   "metadata": {},
   "outputs": [
    {
     "output_type": "stream",
     "name": "stdout",
     "text": [
      "City                10\nLatitude            10\nLongitude           10\nTemperature (F)     10\nHumidity (%)        10\nCloudiness (%)      10\nWind_Speed (mph)    10\nCountry             10\ndtype: int64\n"
     ]
    },
    {
     "output_type": "execute_result",
     "data": {
      "text/plain": [
       "           City   Latitude   Longitude  Temperature (F)  Humidity (%)  \\\n",
       "0  torbat-e jam  35.244000   60.622500            57.06          33.0   \n",
       "1      nuristan  34.950000   70.400000            51.60          40.0   \n",
       "2       newport  44.636944 -124.052222            51.55          39.0   \n",
       "3      ardistan  33.376100   52.369400            53.47          38.0   \n",
       "4    north bend  43.406667 -124.223056            56.32          37.0   \n",
       "\n",
       "   Cloudiness (%)  Wind_Speed (mph) Country  \n",
       "0             0.0              9.04      IR  \n",
       "1             0.0              1.79      AF  \n",
       "2             1.0              8.05      US  \n",
       "3             0.0              2.73      IR  \n",
       "4             1.0              4.70      US  "
      ],
      "text/html": "<div>\n<style scoped>\n    .dataframe tbody tr th:only-of-type {\n        vertical-align: middle;\n    }\n\n    .dataframe tbody tr th {\n        vertical-align: top;\n    }\n\n    .dataframe thead th {\n        text-align: right;\n    }\n</style>\n<table border=\"1\" class=\"dataframe\">\n  <thead>\n    <tr style=\"text-align: right;\">\n      <th></th>\n      <th>City</th>\n      <th>Latitude</th>\n      <th>Longitude</th>\n      <th>Temperature (F)</th>\n      <th>Humidity (%)</th>\n      <th>Cloudiness (%)</th>\n      <th>Wind_Speed (mph)</th>\n      <th>Country</th>\n    </tr>\n  </thead>\n  <tbody>\n    <tr>\n      <th>0</th>\n      <td>torbat-e jam</td>\n      <td>35.244000</td>\n      <td>60.622500</td>\n      <td>57.06</td>\n      <td>33.0</td>\n      <td>0.0</td>\n      <td>9.04</td>\n      <td>IR</td>\n    </tr>\n    <tr>\n      <th>1</th>\n      <td>nuristan</td>\n      <td>34.950000</td>\n      <td>70.400000</td>\n      <td>51.60</td>\n      <td>40.0</td>\n      <td>0.0</td>\n      <td>1.79</td>\n      <td>AF</td>\n    </tr>\n    <tr>\n      <th>2</th>\n      <td>newport</td>\n      <td>44.636944</td>\n      <td>-124.052222</td>\n      <td>51.55</td>\n      <td>39.0</td>\n      <td>1.0</td>\n      <td>8.05</td>\n      <td>US</td>\n    </tr>\n    <tr>\n      <th>3</th>\n      <td>ardistan</td>\n      <td>33.376100</td>\n      <td>52.369400</td>\n      <td>53.47</td>\n      <td>38.0</td>\n      <td>0.0</td>\n      <td>2.73</td>\n      <td>IR</td>\n    </tr>\n    <tr>\n      <th>4</th>\n      <td>north bend</td>\n      <td>43.406667</td>\n      <td>-124.223056</td>\n      <td>56.32</td>\n      <td>37.0</td>\n      <td>1.0</td>\n      <td>4.70</td>\n      <td>US</td>\n    </tr>\n  </tbody>\n</table>\n</div>"
     },
     "metadata": {},
     "execution_count": 54
    }
   ],
   "source": [
    "ideal_weather_df=city_weather_df.loc[(city_weather_df[\"Humidity (%)\"]>20) & (city_weather_df[\"Humidity (%)\"]<50) & (city_weather_df[\"Cloudiness (%)\"]<20) & (city_weather_df[\"Wind_Speed (mph)\"]<10) & (city_weather_df[\"Temperature (F)\"]>=50) & (city_weather_df[\"Temperature (F)\"]<=60),:].reset_index(drop=True)\n",
    "\n",
    "Country=[]\n",
    "for index, row in test_df.iterrows():\n",
    "    Country.append(citipy.nearest_city(row[\"Latitude\"],row[\"Longitude\"]).country_code.upper())\n",
    "ideal_weather_df[\"Country\"]=Country\n",
    "\n",
    "print(ideal_weather_df.count())\n",
    "ideal_weather_df.head()"
   ]
  },
  {
   "cell_type": "markdown",
   "metadata": {},
   "source": [
    "### Hotel Map\n",
    "* Store into variable named `hotel_df`.\n",
    "* Add a \"Hotel Name\" column to the DataFrame.\n",
    "* Set parameters to search for hotels with 5000 meters.\n",
    "* Hit the Google Places API for each city's coordinates.\n",
    "* Store the first Hotel result into the DataFrame.\n",
    "* Plot markers on top of the heatmap."
   ]
  },
  {
   "cell_type": "code",
   "execution_count": 66,
   "metadata": {},
   "outputs": [
    {
     "output_type": "execute_result",
     "data": {
      "text/plain": [
       "            City   Latitude   Longitude  Temperature (F)  Humidity (%)  \\\n",
       "0   torbat-e jam  35.244000   60.622500            57.06          33.0   \n",
       "1       nuristan  34.950000   70.400000            51.60          40.0   \n",
       "2        newport  44.636944 -124.052222            51.55          39.0   \n",
       "3       ardistan  33.376100   52.369400            53.47          38.0   \n",
       "4     north bend  43.406667 -124.223056            56.32          37.0   \n",
       "5  alice springs -23.697479  133.883621            55.40          35.0   \n",
       "6           wana  32.298889   69.572500            53.31          37.0   \n",
       "7         yulara -25.245291  130.980545            59.00          31.0   \n",
       "8         sayyan  15.166389   44.328056            53.42          34.0   \n",
       "9        astoria  46.188056 -123.830000            50.23          49.0   \n",
       "\n",
       "   Cloudiness (%)  Wind_Speed (mph) Country  \\\n",
       "0             0.0              9.04      IR   \n",
       "1             0.0              1.79      AF   \n",
       "2             1.0              8.05      US   \n",
       "3             0.0              2.73      IR   \n",
       "4             1.0              4.70      US   \n",
       "5             0.0              4.70      AU   \n",
       "6             0.0              2.48      PK   \n",
       "7             0.0              6.93      AU   \n",
       "8             0.0              4.61      YE   \n",
       "9             1.0              6.93      US   \n",
       "\n",
       "                                 Hotel Name  \n",
       "0                          Pardisan Hotel 🏩  \n",
       "1                                       N/A  \n",
       "2   Hallmark Resort Hotel | Newport, Oregon  \n",
       "3                     Jahangardi Restaurant  \n",
       "4         The Mill Casino • Hotel & RV Park  \n",
       "5  DoubleTree by Hilton Hotel Alice Springs  \n",
       "6                       United Bank Limited  \n",
       "7                         Ayers Rock Resort  \n",
       "8                                       N/A  \n",
       "9                  Selina Commodore Astoria  "
      ],
      "text/html": "<div>\n<style scoped>\n    .dataframe tbody tr th:only-of-type {\n        vertical-align: middle;\n    }\n\n    .dataframe tbody tr th {\n        vertical-align: top;\n    }\n\n    .dataframe thead th {\n        text-align: right;\n    }\n</style>\n<table border=\"1\" class=\"dataframe\">\n  <thead>\n    <tr style=\"text-align: right;\">\n      <th></th>\n      <th>City</th>\n      <th>Latitude</th>\n      <th>Longitude</th>\n      <th>Temperature (F)</th>\n      <th>Humidity (%)</th>\n      <th>Cloudiness (%)</th>\n      <th>Wind_Speed (mph)</th>\n      <th>Country</th>\n      <th>Hotel Name</th>\n    </tr>\n  </thead>\n  <tbody>\n    <tr>\n      <th>0</th>\n      <td>torbat-e jam</td>\n      <td>35.244000</td>\n      <td>60.622500</td>\n      <td>57.06</td>\n      <td>33.0</td>\n      <td>0.0</td>\n      <td>9.04</td>\n      <td>IR</td>\n      <td>Pardisan Hotel 🏩</td>\n    </tr>\n    <tr>\n      <th>1</th>\n      <td>nuristan</td>\n      <td>34.950000</td>\n      <td>70.400000</td>\n      <td>51.60</td>\n      <td>40.0</td>\n      <td>0.0</td>\n      <td>1.79</td>\n      <td>AF</td>\n      <td>N/A</td>\n    </tr>\n    <tr>\n      <th>2</th>\n      <td>newport</td>\n      <td>44.636944</td>\n      <td>-124.052222</td>\n      <td>51.55</td>\n      <td>39.0</td>\n      <td>1.0</td>\n      <td>8.05</td>\n      <td>US</td>\n      <td>Hallmark Resort Hotel | Newport, Oregon</td>\n    </tr>\n    <tr>\n      <th>3</th>\n      <td>ardistan</td>\n      <td>33.376100</td>\n      <td>52.369400</td>\n      <td>53.47</td>\n      <td>38.0</td>\n      <td>0.0</td>\n      <td>2.73</td>\n      <td>IR</td>\n      <td>Jahangardi Restaurant</td>\n    </tr>\n    <tr>\n      <th>4</th>\n      <td>north bend</td>\n      <td>43.406667</td>\n      <td>-124.223056</td>\n      <td>56.32</td>\n      <td>37.0</td>\n      <td>1.0</td>\n      <td>4.70</td>\n      <td>US</td>\n      <td>The Mill Casino • Hotel &amp; RV Park</td>\n    </tr>\n    <tr>\n      <th>5</th>\n      <td>alice springs</td>\n      <td>-23.697479</td>\n      <td>133.883621</td>\n      <td>55.40</td>\n      <td>35.0</td>\n      <td>0.0</td>\n      <td>4.70</td>\n      <td>AU</td>\n      <td>DoubleTree by Hilton Hotel Alice Springs</td>\n    </tr>\n    <tr>\n      <th>6</th>\n      <td>wana</td>\n      <td>32.298889</td>\n      <td>69.572500</td>\n      <td>53.31</td>\n      <td>37.0</td>\n      <td>0.0</td>\n      <td>2.48</td>\n      <td>PK</td>\n      <td>United Bank Limited</td>\n    </tr>\n    <tr>\n      <th>7</th>\n      <td>yulara</td>\n      <td>-25.245291</td>\n      <td>130.980545</td>\n      <td>59.00</td>\n      <td>31.0</td>\n      <td>0.0</td>\n      <td>6.93</td>\n      <td>AU</td>\n      <td>Ayers Rock Resort</td>\n    </tr>\n    <tr>\n      <th>8</th>\n      <td>sayyan</td>\n      <td>15.166389</td>\n      <td>44.328056</td>\n      <td>53.42</td>\n      <td>34.0</td>\n      <td>0.0</td>\n      <td>4.61</td>\n      <td>YE</td>\n      <td>N/A</td>\n    </tr>\n    <tr>\n      <th>9</th>\n      <td>astoria</td>\n      <td>46.188056</td>\n      <td>-123.830000</td>\n      <td>50.23</td>\n      <td>49.0</td>\n      <td>1.0</td>\n      <td>6.93</td>\n      <td>US</td>\n      <td>Selina Commodore Astoria</td>\n    </tr>\n  </tbody>\n</table>\n</div>"
     },
     "metadata": {},
     "execution_count": 66
    }
   ],
   "source": [
    "hotel_df=ideal_weather_df\n",
    "hotels=[]\n",
    "latlong=[]\n",
    "target_search = \"hotel\"\n",
    "radius=5000\n",
    "\n",
    "for i, row in hotel_df.iterrows():\n",
    "    Lat=ideal_weather_df[\"Latitude\"][i]\n",
    "    Long=ideal_weather_df[\"Longitude\"][i]\n",
    "\n",
    "    coords=f\"{Lat},{Long}\"\n",
    "\n",
    "    params = {\n",
    "        \"location\": coords,\n",
    "        \"keyword\": target_search,\n",
    "        \"radius\": radius,\n",
    "        \"key\": g_key\n",
    "    }\n",
    "\n",
    "    base_url = \"https://maps.googleapis.com/maps/api/place/nearbysearch/json\"\n",
    "\n",
    "    response = requests.get(base_url, params).json()\n",
    "    try:\n",
    "        latlong.append((response['results'][0]['geometry']['location']['lat'],response['results'][0]['geometry']['location']['lng']))\n",
    "        hotels.append(response['results'][0]['name'])\n",
    "    except:\n",
    "        hotels.append(\"N/A\")\n",
    "\n",
    "hotel_df[\"Hotel Name\"]=hotels\n",
    "hotel_df"
   ]
  },
  {
   "cell_type": "code",
   "execution_count": 68,
   "metadata": {},
   "outputs": [
    {
     "output_type": "execute_result",
     "data": {
      "text/plain": [
       "                                 Hotel Name           City Country\n",
       "0                          Pardisan Hotel 🏩   torbat-e jam      IR\n",
       "1   Hallmark Resort Hotel | Newport, Oregon        newport      US\n",
       "2                     Jahangardi Restaurant       ardistan      IR\n",
       "3         The Mill Casino • Hotel & RV Park     north bend      US\n",
       "4  DoubleTree by Hilton Hotel Alice Springs  alice springs      AU\n",
       "5                       United Bank Limited           wana      PK\n",
       "6                         Ayers Rock Resort         yulara      AU\n",
       "7                  Selina Commodore Astoria        astoria      US"
      ],
      "text/html": "<div>\n<style scoped>\n    .dataframe tbody tr th:only-of-type {\n        vertical-align: middle;\n    }\n\n    .dataframe tbody tr th {\n        vertical-align: top;\n    }\n\n    .dataframe thead th {\n        text-align: right;\n    }\n</style>\n<table border=\"1\" class=\"dataframe\">\n  <thead>\n    <tr style=\"text-align: right;\">\n      <th></th>\n      <th>Hotel Name</th>\n      <th>City</th>\n      <th>Country</th>\n    </tr>\n  </thead>\n  <tbody>\n    <tr>\n      <th>0</th>\n      <td>Pardisan Hotel 🏩</td>\n      <td>torbat-e jam</td>\n      <td>IR</td>\n    </tr>\n    <tr>\n      <th>1</th>\n      <td>Hallmark Resort Hotel | Newport, Oregon</td>\n      <td>newport</td>\n      <td>US</td>\n    </tr>\n    <tr>\n      <th>2</th>\n      <td>Jahangardi Restaurant</td>\n      <td>ardistan</td>\n      <td>IR</td>\n    </tr>\n    <tr>\n      <th>3</th>\n      <td>The Mill Casino • Hotel &amp; RV Park</td>\n      <td>north bend</td>\n      <td>US</td>\n    </tr>\n    <tr>\n      <th>4</th>\n      <td>DoubleTree by Hilton Hotel Alice Springs</td>\n      <td>alice springs</td>\n      <td>AU</td>\n    </tr>\n    <tr>\n      <th>5</th>\n      <td>United Bank Limited</td>\n      <td>wana</td>\n      <td>PK</td>\n    </tr>\n    <tr>\n      <th>6</th>\n      <td>Ayers Rock Resort</td>\n      <td>yulara</td>\n      <td>AU</td>\n    </tr>\n    <tr>\n      <th>7</th>\n      <td>Selina Commodore Astoria</td>\n      <td>astoria</td>\n      <td>US</td>\n    </tr>\n  </tbody>\n</table>\n</div>"
     },
     "metadata": {},
     "execution_count": 68
    }
   ],
   "source": [
    "hotel_df=hotel_df.loc[hotel_df[\"Hotel Name\"]!=\"N/A\",:]\n",
    "hotel_df=hotel_df.reset_index(drop=True)\n",
    "hotel_df=hotel_df[[\"Hotel Name\",\"City\",\"Country\"]]\n",
    "hotel_df"
   ]
  },
  {
   "cell_type": "code",
   "execution_count": 69,
   "metadata": {},
   "outputs": [],
   "source": [
    "# NOTE: Do not change any of the code in this cell\n",
    "\n",
    "# Using the template add the hotel marks to the heatmap\n",
    "info_box_template = \"\"\"\n",
    "<dl>\n",
    "<dt>Name</dt><dd>{Hotel Name}</dd>\n",
    "<dt>City</dt><dd>{City}</dd>\n",
    "<dt>Country</dt><dd>{Country}</dd>\n",
    "</dl>\n",
    "\"\"\"\n",
    "# Store the DataFrame Row\n",
    "# NOTE: be sure to update with your DataFrame name\n",
    "hotel_info = [info_box_template.format(**row) for index, row in hotel_df.iterrows()]\n",
    "locations = latlong"
   ]
  },
  {
   "cell_type": "code",
   "execution_count": 70,
   "metadata": {},
   "outputs": [
    {
     "output_type": "stream",
     "name": "stdout",
     "text": [
      "['\\n<dl>\\n<dt>Name</dt><dd>Pardisan Hotel 🏩</dd>\\n<dt>City</dt><dd>torbat-e jam</dd>\\n<dt>Country</dt><dd>IR</dd>\\n</dl>\\n', '\\n<dl>\\n<dt>Name</dt><dd>Hallmark Resort Hotel | Newport, Oregon</dd>\\n<dt>City</dt><dd>newport</dd>\\n<dt>Country</dt><dd>US</dd>\\n</dl>\\n', '\\n<dl>\\n<dt>Name</dt><dd>Jahangardi Restaurant</dd>\\n<dt>City</dt><dd>ardistan</dd>\\n<dt>Country</dt><dd>IR</dd>\\n</dl>\\n', '\\n<dl>\\n<dt>Name</dt><dd>The Mill Casino • Hotel & RV Park</dd>\\n<dt>City</dt><dd>north bend</dd>\\n<dt>Country</dt><dd>US</dd>\\n</dl>\\n', '\\n<dl>\\n<dt>Name</dt><dd>DoubleTree by Hilton Hotel Alice Springs</dd>\\n<dt>City</dt><dd>alice springs</dd>\\n<dt>Country</dt><dd>AU</dd>\\n</dl>\\n', '\\n<dl>\\n<dt>Name</dt><dd>United Bank Limited</dd>\\n<dt>City</dt><dd>wana</dd>\\n<dt>Country</dt><dd>PK</dd>\\n</dl>\\n', '\\n<dl>\\n<dt>Name</dt><dd>Ayers Rock Resort</dd>\\n<dt>City</dt><dd>yulara</dd>\\n<dt>Country</dt><dd>AU</dd>\\n</dl>\\n', '\\n<dl>\\n<dt>Name</dt><dd>Selina Commodore Astoria</dd>\\n<dt>City</dt><dd>astoria</dd>\\n<dt>Country</dt><dd>US</dd>\\n</dl>\\n']\n"
     ]
    }
   ],
   "source": [
    "print(hotel_info)"
   ]
  },
  {
   "cell_type": "code",
   "execution_count": 71,
   "metadata": {},
   "outputs": [
    {
     "output_type": "display_data",
     "data": {
      "text/plain": "Figure(layout=FigureLayout(height='420px'))",
      "application/vnd.jupyter.widget-view+json": {
       "version_major": 2,
       "version_minor": 0,
       "model_id": "46de98ab59334038a125e648f6d755ed"
      }
     },
     "metadata": {}
    }
   ],
   "source": [
    "# Add marker layer ontop of heat map\n",
    "fig.add_layer(gmaps.marker_layer(locations,info_box_content=hotel_info))\n",
    "\n",
    "# Display figure\n",
    "fig"
   ]
  },
  {
   "source": [
    "Looks like I'm going to need to move!"
   ],
   "cell_type": "markdown",
   "metadata": {}
  }
 ],
 "metadata": {
  "kernelspec": {
   "name": "Python 3.8.3 64-bit ('base': conda)",
   "display_name": "Python 3.8.3 64-bit ('base': conda)",
   "metadata": {
    "interpreter": {
     "hash": "32d4838acaefaa7115b337e49859756d16aae9672b4c351e965209a797a6582f"
    }
   }
  },
  "language_info": {
   "codemirror_mode": {
    "name": "ipython",
    "version": 3
   },
   "file_extension": ".py",
   "mimetype": "text/x-python",
   "name": "python",
   "nbconvert_exporter": "python",
   "pygments_lexer": "ipython3",
   "version": "3.8.3-final"
  },
  "latex_envs": {
   "LaTeX_envs_menu_present": true,
   "autoclose": false,
   "autocomplete": true,
   "bibliofile": "biblio.bib",
   "cite_by": "apalike",
   "current_citInitial": 1,
   "eqLabelWithNumbers": true,
   "eqNumInitial": 1,
   "hotkeys": {
    "equation": "Ctrl-E",
    "itemize": "Ctrl-I"
   },
   "labels_anchors": false,
   "latex_user_defs": false,
   "report_style_numbering": false,
   "user_envs_cfg": false
  }
 },
 "nbformat": 4,
 "nbformat_minor": 4
}